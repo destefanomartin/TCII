{
 "cells": [
  {
   "cell_type": "markdown",
   "id": "3dde46d4",
   "metadata": {},
   "source": [
    "# TCII \n",
    "\n",
    "### Destefano, Martin \n",
    "\n",
    "## Trabajo semanal 1 (Ejercicio N°7 TP1) \n",
    "\n",
    "\n",
    "Se realizara el analisis del siguiente circuito, el cual representa un Filtro Pasa Todo o Rotador de fase: \n",
    "\n",
    "    \n",
    "![Circuit](.\\circuito1.png)\n",
    "\n",
    "### Transferencia del circuito \n",
    "\n",
    "$$\n",
    "(Ec.1)\\\\ \n",
    "(V_{b}-V_{1})*sC = \\frac{-V_{b}}{R_{3}}\\\\ \n",
    "(Ec.2)\\\\ \n",
    "\\frac{V_{a} - V_{1}}{R_{1}} = \\frac{V_{2} - V_{a}}{R_{2}}\\\\ \n",
    "(Ec.3)\\\\ \n",
    "V_{a} = V_{b} \n",
    "$$\n",
    "\n",
    "De Ec. 1: \n",
    "\n",
    "$$\n",
    "    V_{b}(sC+\\frac{1}{R_{3}} = V_{1}sC \\, (Ec. 1.1) \\\\ \n",
    "     \\\\V_{b} = \\frac{V_{1}sCR_{3}}{R_{3}sC+1} \\, (Ec. 1.2) \\\\ \n",
    "$$\n",
    "\n",
    "De Ec. 2: \n",
    "\n",
    "$$ \n",
    "    V_{a}(\\frac{1}{R_{1}}+\\frac{1}{R_{2}})=\\frac{V_{2}}{R_{2}}+\\frac{V_{1}}{R_{1}} \\, (Ec. 2.1) \\\\ \n",
    "    V_{a} = \\frac{R_{1}V_{2}+R_{2}V_{1}}{R_{2}+R_{1}} \\, (Ec 2.2) \\\\ \n",
    "$$\n",
    "\n",
    "Combinando Ec. 1.2, Ec 2.2 y Ec. 3: \n",
    "\n",
    "$$\n",
    "    \\frac{V_{1}sCR_{3}}{R_{3}sC+1} = \\frac{R_{1}V_{2}+R_{2}V_{2}}{R_{2}+R_{1}} \\, (Ec. 3.1) \\\\ \n",
    "    V_{1}(\\frac{V_{1}sCR_{3}}{R_{3}sC+1} - \\frac{R_{2}}{R_{2}+R_{1}}) = \\frac{R_{1}V_{2}}{R_{2}+R_{1}} \\, (Ec. 3.2) \\\\\n",
    "    V_{1}\\frac{sCR_{3}R_{1}-R_{2}}{R_{3}sC+1} = V_{2}R_{1} \\, (Ec. 3.3) \\\\\n",
    "    T(s) = \\frac{V_{2}}{V_{1}} = \\frac{sCR_{3}R_{1}-R_{2}}{sCR_{3}R_{1}+R_{1}} = \\frac{s-\\frac{R_{2}}{R_{3}R_{1}C}}{s+\\frac{1}{R_{3}C}}  V_{2}R_{1} \\, (Ec. 3.3) \\\\\n",
    "$$\n",
    "\n",
    "si: $\\omega_{0} = \\frac{1}{R_{3}C}$\n",
    "\n",
    "$$     T(s) = \\frac{s-\\frac{R_{2}}{R_{1}}\\omega_{0}}{s+\\omega_{0}}\n",
    "$$"
   ]
  },
  {
   "cell_type": "markdown",
   "id": "3c09a0c8",
   "metadata": {},
   "source": [
    "\n",
    "<img src=\"phasemodule.jpg\" alt=\"moduleandphase\" style=\"width: 500px;\"/>\n",
    "\n",
    "<img src=\"pzero.png\" alt=\"polesandzeros\" style=\"width: 500px;\"/>\n",
    "\n",
    "\n",
    "[Desarrollo en papel](https://drive.google.com/file/d/1ZqM3OznQR7OZ5t3-oCqiNuwSzluNQwwP/view?usp=sharing)"
   ]
  },
  {
   "cell_type": "markdown",
   "id": "a32375dc",
   "metadata": {},
   "source": [
    "### Verificacion de los resultados en Python "
   ]
  },
  {
   "cell_type": "code",
   "execution_count": null,
   "id": "466d8b2b",
   "metadata": {},
   "outputs": [],
   "source": [
    "from scipy import signal\n",
    "import matplotlib.pyplot as plt\n",
    "from splane import bodePlot, pzmap, grpDelay\n",
    "import numpy as np\n",
    "\n",
    "R=1000\n",
    "C=0.000001\n",
    "\n",
    "\n",
    "wo=np.arange(1, 10**5, 10)\n",
    "sys = signal.TransferFunction([1,-1/(R*C)], [1,1/(R*C)])\n",
    "w, mag, phase = signal.bode(sys,wo)\n",
    "\n",
    "plt.figure()\n",
    "plt.ylim(-2,2)\n",
    "plt.title('Magnitude response')\n",
    "plt.xlabel('Angular frecuency')\n",
    "plt.ylabel('Magnitude[dB]')\n",
    "plt.semilogx(w, mag)    # Diagrama de bode en magnitud\n",
    "\n",
    "plt.figure()\n",
    "plt.title('Phase response')\n",
    "plt.xlabel('Angular frecuency')\n",
    "plt.ylabel('Phase[deg]')\n",
    "plt.semilogx(w, phase)  # Diagrama de bode en fase\n",
    "\n",
    "pzmap(sys)              # Diagrama de Polos y Ceros\n",
    "grpDelay(sys)\n",
    "plt.show()"
   ]
  },
  {
   "cell_type": "markdown",
   "id": "08d791e2",
   "metadata": {},
   "source": [
    "### Funcion de transferencia normalizada \n",
    "\n",
    "Con la siguiente norma de frecuencia $\\Omega_{w} = \\omega_{0}$ y si consideramos $\\frac{R2}{R1} = 1$: \n",
    "$$ $=\\frac{S}{\\omega_{0}} $$ \n",
    "\n",
    "$$ T(S)=\\frac{$-1}{$+1} $$ \n",
    "\n",
    "Utilizamos $ \\omega_{0} $ como norma de frecuencia ya que con la variacion de solo este parametro podemos modificar el desdoblamiento de fase. \n",
    "\n",
    "\n",
    "A continuacion propongo una red normalizada teniendo como norma de impedancia es $\\Omega_{z} = R_{3}$\n",
    "\n",
    "<img src=\"normRed.png\" alt=\"Red normalizada\" style=\"width: 600px;\"/>"
   ]
  },
  {
   "cell_type": "markdown",
   "id": "998e345b",
   "metadata": {},
   "source": [
    "### Modulo y fase \n",
    "\n",
    "A continuacion calcularemos el modulo de la funcion: \n",
    "\n",
    "$$ |T(jw)| = \\frac {\\sqrt{\\omega^2 + (\\frac{R_{1}}{R_{2}})^2 \\omega_{0}^2}}{\\sqrt{\\omega^2+\\omega_{0}^2}} $$\n",
    "\n",
    "Si suponemos R1 = R2, la transferencia nos remite a un pasatodo, con modulo 1 para cualquier frecuencia. \n",
    "\n",
    "$|T(j\\omega)| = 1$ \n",
    "\n",
    "De no ser asi, nos queda: \n",
    "\n",
    "$|T(j\\omega)|_{\\omega=0} = \\frac{R_{2}}{R_{1}}$ \n",
    "\n",
    "$|T(j\\omega)|_{\\omega=\\omega_{0}} = 1 $\n",
    "\n",
    "$|T(j\\omega)|_{\\omega\\rightarrow\\infty} \\rightarrow \\infty $ \n",
    "\n",
    "Para la fase, evaluo el diagrama de polos y ceros, considerando que $ \\frac{R1}{R2} = 1 $: \n",
    "\n",
    "$\\phi_{\\omega=0} = \\pi $\n",
    "\n",
    "$\\phi_{\\omega=\\omega_{0}} = \\frac{\\pi}{2} $\n",
    "\n",
    "$\\phi_{\\omega\\rightarrow\\infty} = 0 $"
   ]
  },
  {
   "cell_type": "markdown",
   "id": "f1c3c803",
   "metadata": {},
   "source": [
    "### Simulacion con Python de la funcion normalizada"
   ]
  },
  {
   "cell_type": "code",
   "execution_count": null,
   "id": "c609b782",
   "metadata": {
    "scrolled": false
   },
   "outputs": [],
   "source": [
    "from splane import pzmap, grpDelay \n",
    "from scipy import signal\n",
    "import matplotlib.pyplot as plt\n",
    "my_tf = signal.TransferFunction([1,-1], [1, 1])\n",
    "w, mag, phase = signal.bode(my_tf)\n",
    "plt.figure()\n",
    "plt.ylim(-1,1)\n",
    "plt.title('Magnitude response')\n",
    "plt.xlabel('Angular frecuency')\n",
    "plt.ylabel('Magnitude[dB]')\n",
    "plt.semilogx(w, mag)    # Modulo\n",
    "plt.figure()\n",
    "plt.title('Phase response')\n",
    "plt.xlabel('Angular frecuency')\n",
    "plt.ylabel('Phase[deg]')\n",
    "plt.semilogx(w, phase)  # Fase\n",
    "pzmap(my_tf)            # Polos y zeros \n",
    "grpDelay(my_tf)         # Retardo de grupo \n",
    "plt.show()\n",
    "plt.close('all')\n"
   ]
  },
  {
   "cell_type": "markdown",
   "id": "80a56c79",
   "metadata": {},
   "source": [
    "## Simulacion del circuito con LTSpice\n",
    "\n",
    "A continuacion realizamos la simulacion en frecuencia del circuito mediante el software LTSpice. Para la simulacion consideraremos $\\frac{R_{2}}{R_{1}} = 1$, $ R_{3}=1K\\Omega $ $ C=1{\\mu}F $\n",
    "\n",
    "![CircuitLTS](.\\CircuitoLTS.png)\n",
    "\n",
    "![Graph](.\\Graph1.png)\n",
    "\n",
    "Como podemos observar la el modulo es aproximadamente 0dB para un amplio espectro de frecuencias, caracteristica que identifica el filtro pasa todo. "
   ]
  },
  {
   "cell_type": "markdown",
   "id": "1db5abb9",
   "metadata": {},
   "source": [
    "### Conclusiones\n",
    "Calculamos la transferencia del filtro, como tambien su normalizacion. Ademas pudimos observar el mismo resultado que obtuvimos analiticamente mediante la simulacion de Python y LTSpice. \n",
    "\n",
    "El filtro pasatodo cobra importancia cuando debemos trabajar con la fase, esta presente en multiples aplicaciones dentro de las comunicaciones ya que es un corrector de fase con versatilidad. Se utiliza tanto en señales discretas como continuas. "
   ]
  }
 ],
 "metadata": {
  "kernelspec": {
   "display_name": "Python 3 (ipykernel)",
   "language": "python",
   "name": "python3"
  },
  "language_info": {
   "codemirror_mode": {
    "name": "ipython",
    "version": 3
   },
   "file_extension": ".py",
   "mimetype": "text/x-python",
   "name": "python",
   "nbconvert_exporter": "python",
   "pygments_lexer": "ipython3",
   "version": "3.9.7"
  }
 },
 "nbformat": 4,
 "nbformat_minor": 5
}
