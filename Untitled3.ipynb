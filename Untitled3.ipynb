{
 "cells": [
  {
   "cell_type": "markdown",
   "id": "3dde46d4",
   "metadata": {},
   "source": [
    "## Trabajo semanal 1 \n",
    "\n",
    "Se realizara el analisis del siguiente circuito, el cual representa un Filtro Pasa Todo o Rotador de fase: \n",
    "\n",
    "![Circuit](.\\circuito1.png)\n",
    "\n",
    "### Transferencia del circuito \n",
    "\n",
    "$$\n",
    "(Ec.1)\\\\ \n",
    "(Vb-V1)*SC = \\frac{-Vb}{R3}\\\\ \n",
    "(Ec.2)\\\\ \n",
    "\\frac{Va - V1}{R1} = \\frac{V2 - Va}{R2}\\\\ \n",
    "(Ec.3)\\\\ \n",
    "Va = Vb \n",
    "$$\n",
    "\n",
    "De Ec. 1: \n",
    "\n",
    "$$ \n",
    "    Vb(SC+\\frac{1}{R3} = V1SC \\, (Ec. 1.1) \\\\ \n",
    "     \\\\Vb = \\frac{V1SCR3}{R3SC+1} \\, (Ec. 1.2) \\\\ \n",
    "$$\n",
    "\n",
    "De Ec. 2: \n",
    "\n",
    "$$ \n",
    "    Va(\\frac{1}{R1}+\\frac{1}{R2})=\\frac{V2}{R2}+\\frac{V1}{R1} \\, (Ec. 2.1) \\\\ \n",
    "    Va = \\frac{R1V2+R2V1}{R2+R1} \\, (Ec 2.2) \\\\ \n",
    "$$\n",
    "\n",
    "Combinando Ec. 1.2, Ec 2.2 y Ec. 3: \n",
    "\n",
    "$$\n",
    "    \\frac{V1SCR3}{R3SC+1} = \\frac{R1V2+R2V2}{R2+R1} \\, (Ec. 3.1) \\\\ \n",
    "    V1(\\frac{V1SCR3}{R3SC+1} - \\frac{R2}{R2+R1}) = \\frac{R1V2}{R2+R1} \\, (Ec. 3.2) \\\\\n",
    "    V1\\frac{SCR3R1-R2}{R3SC+1} = V2R1 \\, (Ec. 3.3) \\\\\n",
    "    T(S) = \\frac{V2}{V1} = \\frac{SCR3R1-R2}{SCR3R1+R1} = \\frac{S-\\frac{R2}{R3R1C}}{S+\\frac{1}{R3C}}  V2R1 \\, (Ec. 3.3) \\\\\n",
    "$$\n",
    "\n",
    "Si: $\\omega0 = \\frac{1}{R3C}$\n",
    "\n",
    "$$     T(S) = \\frac{S-\\frac{R2}{R1}\\omega0}{S+\\omega0} \n",
    "$$"
   ]
  },
  {
   "cell_type": "markdown",
   "id": "abab429f",
   "metadata": {},
   "source": [
    "### Modulo y fase "
   ]
  },
  {
   "cell_type": "markdown",
   "id": "eaf27e46",
   "metadata": {},
   "source": [
    "### Funcion de transferencia normalizada \n",
    "\n",
    "Con la siguiente norma de frecuencia y la \n",
    "$$ $=\\frac{S}{\\omega0} $$ \n",
    "\n",
    "$$ T(S)=\\frac{$-1}{$+1} $$ "
   ]
  },
  {
   "cell_type": "markdown",
   "id": "daac1175",
   "metadata": {},
   "source": [
    "### Simulacion con Python"
   ]
  },
  {
   "cell_type": "code",
   "execution_count": 1,
   "id": "d65035d1",
   "metadata": {},
   "outputs": [
    {
     "ename": "ModuleNotFoundError",
     "evalue": "No module named 'splane'",
     "output_type": "error",
     "traceback": [
      "\u001b[1;31m---------------------------------------------------------------------------\u001b[0m",
      "\u001b[1;31mModuleNotFoundError\u001b[0m                       Traceback (most recent call last)",
      "\u001b[1;32m~\\AppData\\Local\\Temp/ipykernel_9176/2589462464.py\u001b[0m in \u001b[0;36m<module>\u001b[1;34m\u001b[0m\n\u001b[1;32m----> 1\u001b[1;33m \u001b[1;32mfrom\u001b[0m \u001b[0msplane\u001b[0m \u001b[1;32mimport\u001b[0m \u001b[0mpzmap\u001b[0m\u001b[1;33m,\u001b[0m \u001b[0mgrpDelay\u001b[0m\u001b[1;33m\u001b[0m\u001b[1;33m\u001b[0m\u001b[0m\n\u001b[0m\u001b[0;32m      2\u001b[0m \u001b[1;32mfrom\u001b[0m \u001b[0mscipy\u001b[0m \u001b[1;32mimport\u001b[0m \u001b[0msignal\u001b[0m\u001b[1;33m\u001b[0m\u001b[1;33m\u001b[0m\u001b[0m\n\u001b[0;32m      3\u001b[0m \u001b[1;32mimport\u001b[0m \u001b[0mmatplotlib\u001b[0m\u001b[1;33m.\u001b[0m\u001b[0mpyplot\u001b[0m \u001b[1;32mas\u001b[0m \u001b[0mplt\u001b[0m\u001b[1;33m\u001b[0m\u001b[1;33m\u001b[0m\u001b[0m\n\u001b[0;32m      4\u001b[0m \u001b[0mmy_tf\u001b[0m \u001b[1;33m=\u001b[0m \u001b[0msignal\u001b[0m\u001b[1;33m.\u001b[0m\u001b[0mTransferFunction\u001b[0m\u001b[1;33m(\u001b[0m\u001b[1;33m[\u001b[0m\u001b[1;36m1\u001b[0m\u001b[1;33m,\u001b[0m\u001b[1;33m-\u001b[0m\u001b[1;36m1\u001b[0m\u001b[1;33m]\u001b[0m\u001b[1;33m,\u001b[0m \u001b[1;33m[\u001b[0m\u001b[1;36m1\u001b[0m\u001b[1;33m,\u001b[0m \u001b[1;36m1\u001b[0m\u001b[1;33m]\u001b[0m\u001b[1;33m)\u001b[0m\u001b[1;33m\u001b[0m\u001b[1;33m\u001b[0m\u001b[0m\n\u001b[0;32m      5\u001b[0m \u001b[0mw\u001b[0m\u001b[1;33m,\u001b[0m \u001b[0mmag\u001b[0m\u001b[1;33m,\u001b[0m \u001b[0mphase\u001b[0m \u001b[1;33m=\u001b[0m \u001b[0msignal\u001b[0m\u001b[1;33m.\u001b[0m\u001b[0mbode\u001b[0m\u001b[1;33m(\u001b[0m\u001b[0mmy_tf\u001b[0m\u001b[1;33m)\u001b[0m\u001b[1;33m\u001b[0m\u001b[1;33m\u001b[0m\u001b[0m\n",
      "\u001b[1;31mModuleNotFoundError\u001b[0m: No module named 'splane'"
     ]
    }
   ],
   "source": [
    "from splane import pzmap, grpDelay \n",
    "from scipy import signal\n",
    "import matplotlib.pyplot as plt\n",
    "my_tf = signal.TransferFunction([1,-1], [1, 1])\n",
    "w, mag, phase = signal.bode(my_tf)\n",
    "plt.figure()\n",
    "plt.ylim(-1,1)\n",
    "plt.semilogx(w, mag)    # Modulo\n",
    "plt.figure()\n",
    "plt.semilogx(w, phase)  # Fase\n",
    "plt.show()\n",
    "pzmap(my_tf)            # Polos y zeros \n",
    "grpDelay(my_tf)         # Retardo de grupo "
   ]
  },
  {
   "cell_type": "code",
   "execution_count": null,
   "id": "237a1fde",
   "metadata": {},
   "outputs": [],
   "source": []
  }
 ],
 "metadata": {
  "kernelspec": {
   "display_name": "Python 3 (ipykernel)",
   "language": "python",
   "name": "python3"
  },
  "language_info": {
   "codemirror_mode": {
    "name": "ipython",
    "version": 3
   },
   "file_extension": ".py",
   "mimetype": "text/x-python",
   "name": "python",
   "nbconvert_exporter": "python",
   "pygments_lexer": "ipython3",
   "version": "3.9.7"
  }
 },
 "nbformat": 4,
 "nbformat_minor": 5
}
